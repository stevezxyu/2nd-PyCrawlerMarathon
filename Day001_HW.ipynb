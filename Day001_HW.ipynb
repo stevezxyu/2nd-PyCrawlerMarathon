{
 "cells": [
  {
   "cell_type": "markdown",
   "metadata": {},
   "source": [
    "# 簡答題\n",
    "##### 檔案、API、爬蟲三種取得資料方式有什麼不同？"
   ]
  },
  {
   "cell_type": "markdown",
   "metadata": {},
   "source": [
    "##### 檔案：資料(Data)會包成一個檔案，檔案格式有CSV、JSON等通用格式\n",
    "##### API：經過程式化之後的平台接口，可讓使用者選擇資料中要讀取的部分，而不用整批資料下載\n",
    "##### 爬蟲：沒有以檔案或API形式出現的資料，出現在網頁上可進行爬蟲程式將網頁的內容擷取下來"
   ]
  },
  {
   "cell_type": "markdown",
   "metadata": {},
   "source": [
    "# 實作題\n",
    "##### 「下載指定檔案到 Data 資料夾，存成檔名 Homework.txt」的檔案網址：https://www.w3.org/TR/PNG/iso_8859-1.txt 或任一個 .txt 的檔案網址\n",
    "##### 1. 檢查 Data 資料夾是否有 Homework.txt 檔名之檔案\n",
    "##### 2. 將「Hello World」字串覆寫到 Homework.txt 檔案\n",
    "##### 3. 檢查 Homework.txt 檔案字數是否符合 Hello World 字數"
   ]
  },
  {
   "cell_type": "code",
   "execution_count": 3,
   "metadata": {},
   "outputs": [
    {
     "name": "stdout",
     "output_type": "stream",
     "text": [
      "Homework.txt\n"
     ]
    }
   ],
   "source": [
    "# 根據需求引入正確的 Library\n",
    "from urllib.request import urlretrieve\n",
    "import os, sys\n",
    "\n",
    "# 「下載指定檔案到 Data 資料夾，存成檔名 Homework.txt」的檔案網址：\n",
    "# https://www.w3.org/TR/PNG/iso_8859-1.txt 或任一個 .txt 的檔案網址\n",
    "# 是否存在路徑的資料夾下面\n",
    "try:\n",
    "    os.makedirs( './Data', exist_ok=True )\n",
    "    '''save file to path'''\n",
    "    urlretrieve(\"https://www.w3.org/TR/PNG/iso_8859-1.txt\", \"./Data/Homework.txt\")\n",
    "    dirs = os.listdir( './Data' )\n",
    "    for file in dirs:\n",
    "        print(file)\n",
    "except:\n",
    "    print(\"Error!\")"
   ]
  },
  {
   "cell_type": "code",
   "execution_count": 5,
   "metadata": {},
   "outputs": [
    {
     "name": "stdout",
     "output_type": "stream",
     "text": [
      "Exist the file!\n"
     ]
    }
   ],
   "source": [
    "# 檢查 Data 資料夾是否有 Homework.txt 檔名之檔案\n",
    "filepath = './Data/Homework.txt'\n",
    "\n",
    "if os.path.isfile(filepath):\n",
    "    print(\"Exist the file!\")\n",
    "else:\n",
    "    print(\"There is not exist file.\")"
   ]
  },
  {
   "cell_type": "code",
   "execution_count": 7,
   "metadata": {},
   "outputs": [
    {
     "name": "stdout",
     "output_type": "stream",
     "text": [
      "Hello World\n"
     ]
    }
   ],
   "source": [
    "# 將「Hello World」字串覆寫到 Homework.txt 檔案\n",
    "'''method 1'''\n",
    "with open(\"./Data/Homework.txt\", \"w\") as fh:\n",
    "    f = fh.write(\"Hello World\")\n",
    "\n",
    "'''method 2'''\n",
    "# fh = open(\"./Data/Homework.txt\", \"w\")\n",
    "# f = fh.write(\"Hello World\")\n",
    "# fh.close()\n",
    "\n",
    "try:\n",
    "    with open(\"./Data/Homework.txt\", \"r\") as fh:\n",
    "        f = fh.read()\n",
    "# file not found error\n",
    "except FileNotFoundError:\n",
    "  print(\"There is not exist file.\")\n",
    "# is a directory error\n",
    "except IsADirectoryError:\n",
    "  print(\"This path is a directory.\")\n",
    "# environment error, parent of IOError\n",
    "except EnvironmentError:\n",
    "    pass \n",
    "\n",
    "print(f)   # print content"
   ]
  },
  {
   "cell_type": "code",
   "execution_count": 11,
   "metadata": {},
   "outputs": [
    {
     "name": "stdout",
     "output_type": "stream",
     "text": [
      "[O] 檢查 Homework.txt 檔案字數是否符合 Hello World 字數\n"
     ]
    }
   ],
   "source": [
    "# 檢查 Homework.txt 檔案字數是否符合 Hello World 字數\n",
    "if len('Hello World') == len(f):\n",
    "    print('[O] 檢查 Homework.txt 檔案字數是否符合 Hello World 字數')\n",
    "else:\n",
    "    print('[X] 檢查 Homework.txt 檔案字數是否符合 Hello World 字數')"
   ]
  }
 ],
 "metadata": {
  "kernelspec": {
   "display_name": "Python 3",
   "language": "python",
   "name": "python3"
  },
  "language_info": {
   "codemirror_mode": {
    "name": "ipython",
    "version": 3
   },
   "file_extension": ".py",
   "mimetype": "text/x-python",
   "name": "python",
   "nbconvert_exporter": "python",
   "pygments_lexer": "ipython3",
   "version": "3.7.4"
  }
 },
 "nbformat": 4,
 "nbformat_minor": 2
}
